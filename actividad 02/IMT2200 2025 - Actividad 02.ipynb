{
 "cells": [
  {
   "cell_type": "markdown",
   "id": "a6311079",
   "metadata": {},
   "source": [
    "# <img style=\"float: left; padding-right: 20px; width: 200px\" src=\"https://raw.githubusercontent.com/raxlab/imt2200-data/main/media/logo.jpg\">  IMT 2200 - Introducción a Ciencia de Datos\n",
    "**Pontificia Universidad Católica de Chile**<br>\n",
    "**Instituto de Ingeniería Matemática y Computacional**<br>\n",
    "**Semestre 2025-S2**<br>\n",
    "**Profesor:** Rodrigo A. Carrasco <br>"
   ]
  },
  {
   "cell_type": "markdown",
   "id": "5ea9347c",
   "metadata": {},
   "source": [
    "# <h1><center>Actividad 02: Extracción y Revisión de Datos</center></h1>\n",
    "\n",
    "Esta actividad busca aplicar lo que acabamos de ver en clases sobre extracción de datos y conectarlo con la materia de \"Tipos de Datos\" que hemos visto en las clases pasadas."
   ]
  },
  {
   "cell_type": "markdown",
   "id": "a2c54596",
   "metadata": {},
   "source": [
    "## Instrucciones\n",
    "\n",
    "Esto Notebook contiene las instrucciones a realizar para la actividad. \n",
    "\n",
    "<b>Al finalizarla, deben subir el Notebook y los archivos generados en un único archivo .zip, al módulo de la Actividad 02 en Canvas.</b>\n",
    "\n",
    "Para esta actividad deben hacer lo siguiente:\n",
    "<ol>\n",
    "<li>Extraer datos</li>\n",
    "\n",
    "Para esta actividad usaremos [**PokeAPI**](https://pokeapi.co/about), una interfaz de código abierto con información detallada relacionada a los videojuegos de Pokémon.\n",
    "    \n",
    "En esta actividad nos concentraremos en comparar las características básicas de los 151 pokémon originales. Para obtener la información de un pokémon, utilizaremos el siguiente URL:\n",
    "\n",
    "```\n",
    "https://pokeapi.co/api/v2/pokemon/{id_pokemon}\n",
    "```\n",
    "\n",
    "Donde `{id_pokemon}` es el identificador del pokémon (un número entero). \n",
    "    \n",
    "<br>\n",
    "\n",
    "<li>Formato</li>\n",
    "\n",
    "¿En qué formato están los datos descargados? Identifique si son datos estructurados, semi-estructurados o no estructurados, explicando claramente por qué los categoriza así.\n",
    "\n",
    "<br>\n",
    "    \n",
    "<li>DataFrame de análisis</li>\n",
    "\n",
    "Construya un DataFrame con al menos las siguientes columnas: `name, type1, type2, hp, attack, defense, special-attack, special-defense, speed`. En caso de que un pokémon tenga solo un tipo, puede dejar su atributo `type2 = None`. Guarde este nuevo set de datos en un archivo CSV.\n",
    "\n",
    "**Hint:** Inspeccione el atributo `stats` y `types` de las respuestas obtenidas. El valor que debe almacenar en el DataFrame estará bajó el nombre `base_stat`.\n",
    "    \n",
    "<br>\n",
    "    \n",
    "<li>Preguntas</li>\n",
    "\n",
    "A partir de su nuevo dataset, responda las siguientes preguntas:\n",
    "\n",
    "4.1 ¿Cuál son los 3 tipos (fuego, agua, tierra, etc.) más comunes en los pokémones de la primera generación?\n",
    "    \n",
    "4.2 ¿Cuál es el pokémon más rápido? ¿Y el más lento?\n",
    "\n",
    "4.3 Genere una nueva columna en el DataFrame llamada `total-stats` que consista en la suma de todos los stats de un pokémon (`hp, attack, defense, special-attack, special-defense, speed`) y grafique un histograma de esta nueva variable. ¿Cuál es el rango de valores"
   ]
  },
  {
   "cell_type": "markdown",
   "id": "f66e4487",
   "metadata": {},
   "source": [
    "## Rúbrica\n",
    "\n",
    "- Si han hecho todo y sólo hay errores menores: 7.0\n",
    "- Si sólo llegaron hasta la parte 3: 5.0\n",
    "- Menos que eso: 1.0"
   ]
  },
  {
   "cell_type": "markdown",
   "id": "c6494636",
   "metadata": {},
   "source": [
    "## 1. Extraer datos\n",
    "\n",
    "Utilizando el URL indicado en el enunciado, obtenga la información de los primeros 151 pokémones y guárdelos en una lista llamada `pokemones`. \n",
    "\n",
    "Para ello debe usar un `for` que itere sobre los diferentes IDs de pokemon y rescate la información de cada uno de ellos, concatenándola en una lista. Antes de iterar sobre los 151 pokemones, pruebe con 1 o 2 y una vez que verifique que su código está funcionando, aplique a los 151 primeros pokemones."
   ]
  },
  {
   "cell_type": "code",
   "execution_count": 27,
   "id": "c92f4791",
   "metadata": {},
   "outputs": [],
   "source": [
    "import requests\n",
    "import pandas as pd\n"
   ]
  },
  {
   "cell_type": "code",
   "execution_count": 28,
   "id": "1b24d932",
   "metadata": {},
   "outputs": [],
   "source": [
    "pokemones = []"
   ]
  },
  {
   "cell_type": "code",
   "execution_count": 29,
   "id": "c21068e6",
   "metadata": {},
   "outputs": [],
   "source": [
    "for i in range(1, 152):\n",
    "    url = f'https://pokeapi.co/api/v2/pokemon/{i}'\n",
    "    response = requests.get(url)\n",
    "    #print(response)\n",
    "    if response.status_code == 200:\n",
    "        pokemones.append(response.json())\n",
    "    \n"
   ]
  },
  {
   "cell_type": "markdown",
   "id": "fc8f49d7",
   "metadata": {},
   "source": [
    "## 2. Formato de datos\n",
    "\n",
    "Revise la lista que almacenó en `pokemones` y coméntenos en qué formato están los datos y qué tipos de datos serían estos (estructurados, semi-estructurados, no estructurados).\n",
    "\n",
    "Respuesta:"
   ]
  },
  {
   "cell_type": "code",
   "execution_count": 30,
   "id": "ba4b4dbc",
   "metadata": {},
   "outputs": [],
   "source": [
    "while i < 10:\n",
    "    poke = pokemones[i]\n",
    "    print(type(poke))\n",
    "    i += 1\n",
    "    "
   ]
  },
  {
   "cell_type": "markdown",
   "id": "b04a4308",
   "metadata": {},
   "source": [
    "Los datos estan en formato diccionario, tienen jerarquia y un indice. Sin embargo, estan en formato JSON y hemos visto en clases que este tipo de datos suele ser semi-estructurado."
   ]
  },
  {
   "cell_type": "markdown",
   "id": "ff451ed0",
   "metadata": {},
   "source": [
    "## 3. DataFrame de análisis\n",
    "\n",
    "Construya ahor un DataFrame para poder analizar los datos posteriormente. Revise las columnas mínimas que debe tener según el enunciado inicial."
   ]
  },
  {
   "cell_type": "code",
   "execution_count": 31,
   "id": "facecb52",
   "metadata": {},
   "outputs": [],
   "source": [
    "import pandas as pd\n",
    "\n"
   ]
  },
  {
   "cell_type": "code",
   "execution_count": 55,
   "id": "79aa81ff",
   "metadata": {},
   "outputs": [
    {
     "name": "stdout",
     "output_type": "stream",
     "text": [
      "0 bulbasaur grass {'name': 'hp', 'url': 'https://pokeapi.co/api/v2/stat/1/'}\n",
      "1 ivysaur grass {'name': 'hp', 'url': 'https://pokeapi.co/api/v2/stat/1/'}\n",
      "2 venusaur grass {'name': 'hp', 'url': 'https://pokeapi.co/api/v2/stat/1/'}\n",
      "3 charmander fire {'name': 'hp', 'url': 'https://pokeapi.co/api/v2/stat/1/'}\n",
      "4 charmeleon fire {'name': 'hp', 'url': 'https://pokeapi.co/api/v2/stat/1/'}\n",
      "5 charizard fire {'name': 'hp', 'url': 'https://pokeapi.co/api/v2/stat/1/'}\n",
      "6 squirtle water {'name': 'hp', 'url': 'https://pokeapi.co/api/v2/stat/1/'}\n",
      "7 wartortle water {'name': 'hp', 'url': 'https://pokeapi.co/api/v2/stat/1/'}\n",
      "8 blastoise water {'name': 'hp', 'url': 'https://pokeapi.co/api/v2/stat/1/'}\n",
      "9 caterpie bug {'name': 'hp', 'url': 'https://pokeapi.co/api/v2/stat/1/'}\n",
      "10 metapod bug {'name': 'hp', 'url': 'https://pokeapi.co/api/v2/stat/1/'}\n",
      "11 butterfree bug {'name': 'hp', 'url': 'https://pokeapi.co/api/v2/stat/1/'}\n",
      "12 weedle bug {'name': 'hp', 'url': 'https://pokeapi.co/api/v2/stat/1/'}\n",
      "13 kakuna bug {'name': 'hp', 'url': 'https://pokeapi.co/api/v2/stat/1/'}\n",
      "14 beedrill bug {'name': 'hp', 'url': 'https://pokeapi.co/api/v2/stat/1/'}\n",
      "15 pidgey normal {'name': 'hp', 'url': 'https://pokeapi.co/api/v2/stat/1/'}\n",
      "16 pidgeotto normal {'name': 'hp', 'url': 'https://pokeapi.co/api/v2/stat/1/'}\n",
      "17 pidgeot normal {'name': 'hp', 'url': 'https://pokeapi.co/api/v2/stat/1/'}\n",
      "18 rattata normal {'name': 'hp', 'url': 'https://pokeapi.co/api/v2/stat/1/'}\n",
      "19 raticate normal {'name': 'hp', 'url': 'https://pokeapi.co/api/v2/stat/1/'}\n",
      "20 spearow normal {'name': 'hp', 'url': 'https://pokeapi.co/api/v2/stat/1/'}\n",
      "21 fearow normal {'name': 'hp', 'url': 'https://pokeapi.co/api/v2/stat/1/'}\n",
      "22 ekans poison {'name': 'hp', 'url': 'https://pokeapi.co/api/v2/stat/1/'}\n",
      "23 arbok poison {'name': 'hp', 'url': 'https://pokeapi.co/api/v2/stat/1/'}\n",
      "24 pikachu electric {'name': 'hp', 'url': 'https://pokeapi.co/api/v2/stat/1/'}\n",
      "25 raichu electric {'name': 'hp', 'url': 'https://pokeapi.co/api/v2/stat/1/'}\n",
      "26 sandshrew ground {'name': 'hp', 'url': 'https://pokeapi.co/api/v2/stat/1/'}\n",
      "27 sandslash ground {'name': 'hp', 'url': 'https://pokeapi.co/api/v2/stat/1/'}\n",
      "28 nidoran-f poison {'name': 'hp', 'url': 'https://pokeapi.co/api/v2/stat/1/'}\n",
      "29 nidorina poison {'name': 'hp', 'url': 'https://pokeapi.co/api/v2/stat/1/'}\n",
      "30 nidoqueen poison {'name': 'hp', 'url': 'https://pokeapi.co/api/v2/stat/1/'}\n",
      "31 nidoran-m poison {'name': 'hp', 'url': 'https://pokeapi.co/api/v2/stat/1/'}\n",
      "32 nidorino poison {'name': 'hp', 'url': 'https://pokeapi.co/api/v2/stat/1/'}\n",
      "33 nidoking poison {'name': 'hp', 'url': 'https://pokeapi.co/api/v2/stat/1/'}\n",
      "34 clefairy fairy {'name': 'hp', 'url': 'https://pokeapi.co/api/v2/stat/1/'}\n",
      "35 clefable fairy {'name': 'hp', 'url': 'https://pokeapi.co/api/v2/stat/1/'}\n",
      "36 vulpix fire {'name': 'hp', 'url': 'https://pokeapi.co/api/v2/stat/1/'}\n",
      "37 ninetales fire {'name': 'hp', 'url': 'https://pokeapi.co/api/v2/stat/1/'}\n",
      "38 jigglypuff normal {'name': 'hp', 'url': 'https://pokeapi.co/api/v2/stat/1/'}\n",
      "39 wigglytuff normal {'name': 'hp', 'url': 'https://pokeapi.co/api/v2/stat/1/'}\n",
      "40 zubat poison {'name': 'hp', 'url': 'https://pokeapi.co/api/v2/stat/1/'}\n",
      "41 golbat poison {'name': 'hp', 'url': 'https://pokeapi.co/api/v2/stat/1/'}\n",
      "42 oddish grass {'name': 'hp', 'url': 'https://pokeapi.co/api/v2/stat/1/'}\n",
      "43 gloom grass {'name': 'hp', 'url': 'https://pokeapi.co/api/v2/stat/1/'}\n",
      "44 vileplume grass {'name': 'hp', 'url': 'https://pokeapi.co/api/v2/stat/1/'}\n",
      "45 paras bug {'name': 'hp', 'url': 'https://pokeapi.co/api/v2/stat/1/'}\n",
      "46 parasect bug {'name': 'hp', 'url': 'https://pokeapi.co/api/v2/stat/1/'}\n",
      "47 venonat bug {'name': 'hp', 'url': 'https://pokeapi.co/api/v2/stat/1/'}\n",
      "48 venomoth bug {'name': 'hp', 'url': 'https://pokeapi.co/api/v2/stat/1/'}\n",
      "49 diglett ground {'name': 'hp', 'url': 'https://pokeapi.co/api/v2/stat/1/'}\n",
      "50 dugtrio ground {'name': 'hp', 'url': 'https://pokeapi.co/api/v2/stat/1/'}\n",
      "51 meowth normal {'name': 'hp', 'url': 'https://pokeapi.co/api/v2/stat/1/'}\n",
      "52 persian normal {'name': 'hp', 'url': 'https://pokeapi.co/api/v2/stat/1/'}\n",
      "53 psyduck water {'name': 'hp', 'url': 'https://pokeapi.co/api/v2/stat/1/'}\n",
      "54 golduck water {'name': 'hp', 'url': 'https://pokeapi.co/api/v2/stat/1/'}\n",
      "55 mankey fighting {'name': 'hp', 'url': 'https://pokeapi.co/api/v2/stat/1/'}\n",
      "56 primeape fighting {'name': 'hp', 'url': 'https://pokeapi.co/api/v2/stat/1/'}\n",
      "57 growlithe fire {'name': 'hp', 'url': 'https://pokeapi.co/api/v2/stat/1/'}\n",
      "58 arcanine fire {'name': 'hp', 'url': 'https://pokeapi.co/api/v2/stat/1/'}\n",
      "59 poliwag water {'name': 'hp', 'url': 'https://pokeapi.co/api/v2/stat/1/'}\n",
      "60 poliwhirl water {'name': 'hp', 'url': 'https://pokeapi.co/api/v2/stat/1/'}\n",
      "61 poliwrath water {'name': 'hp', 'url': 'https://pokeapi.co/api/v2/stat/1/'}\n",
      "62 abra psychic {'name': 'hp', 'url': 'https://pokeapi.co/api/v2/stat/1/'}\n",
      "63 kadabra psychic {'name': 'hp', 'url': 'https://pokeapi.co/api/v2/stat/1/'}\n",
      "64 alakazam psychic {'name': 'hp', 'url': 'https://pokeapi.co/api/v2/stat/1/'}\n",
      "65 machop fighting {'name': 'hp', 'url': 'https://pokeapi.co/api/v2/stat/1/'}\n",
      "66 machoke fighting {'name': 'hp', 'url': 'https://pokeapi.co/api/v2/stat/1/'}\n",
      "67 machamp fighting {'name': 'hp', 'url': 'https://pokeapi.co/api/v2/stat/1/'}\n",
      "68 bellsprout grass {'name': 'hp', 'url': 'https://pokeapi.co/api/v2/stat/1/'}\n",
      "69 weepinbell grass {'name': 'hp', 'url': 'https://pokeapi.co/api/v2/stat/1/'}\n",
      "70 victreebel grass {'name': 'hp', 'url': 'https://pokeapi.co/api/v2/stat/1/'}\n",
      "71 tentacool water {'name': 'hp', 'url': 'https://pokeapi.co/api/v2/stat/1/'}\n",
      "72 tentacruel water {'name': 'hp', 'url': 'https://pokeapi.co/api/v2/stat/1/'}\n",
      "73 geodude rock {'name': 'hp', 'url': 'https://pokeapi.co/api/v2/stat/1/'}\n",
      "74 graveler rock {'name': 'hp', 'url': 'https://pokeapi.co/api/v2/stat/1/'}\n",
      "75 golem rock {'name': 'hp', 'url': 'https://pokeapi.co/api/v2/stat/1/'}\n",
      "76 ponyta fire {'name': 'hp', 'url': 'https://pokeapi.co/api/v2/stat/1/'}\n",
      "77 rapidash fire {'name': 'hp', 'url': 'https://pokeapi.co/api/v2/stat/1/'}\n",
      "78 slowpoke water {'name': 'hp', 'url': 'https://pokeapi.co/api/v2/stat/1/'}\n",
      "79 slowbro water {'name': 'hp', 'url': 'https://pokeapi.co/api/v2/stat/1/'}\n",
      "80 magnemite electric {'name': 'hp', 'url': 'https://pokeapi.co/api/v2/stat/1/'}\n",
      "81 magneton electric {'name': 'hp', 'url': 'https://pokeapi.co/api/v2/stat/1/'}\n",
      "82 farfetchd normal {'name': 'hp', 'url': 'https://pokeapi.co/api/v2/stat/1/'}\n",
      "83 doduo normal {'name': 'hp', 'url': 'https://pokeapi.co/api/v2/stat/1/'}\n",
      "84 dodrio normal {'name': 'hp', 'url': 'https://pokeapi.co/api/v2/stat/1/'}\n",
      "85 seel water {'name': 'hp', 'url': 'https://pokeapi.co/api/v2/stat/1/'}\n",
      "86 dewgong water {'name': 'hp', 'url': 'https://pokeapi.co/api/v2/stat/1/'}\n",
      "87 grimer poison {'name': 'hp', 'url': 'https://pokeapi.co/api/v2/stat/1/'}\n",
      "88 muk poison {'name': 'hp', 'url': 'https://pokeapi.co/api/v2/stat/1/'}\n",
      "89 shellder water {'name': 'hp', 'url': 'https://pokeapi.co/api/v2/stat/1/'}\n",
      "90 cloyster water {'name': 'hp', 'url': 'https://pokeapi.co/api/v2/stat/1/'}\n",
      "91 gastly ghost {'name': 'hp', 'url': 'https://pokeapi.co/api/v2/stat/1/'}\n",
      "92 haunter ghost {'name': 'hp', 'url': 'https://pokeapi.co/api/v2/stat/1/'}\n",
      "93 gengar ghost {'name': 'hp', 'url': 'https://pokeapi.co/api/v2/stat/1/'}\n",
      "94 onix rock {'name': 'hp', 'url': 'https://pokeapi.co/api/v2/stat/1/'}\n",
      "95 drowzee psychic {'name': 'hp', 'url': 'https://pokeapi.co/api/v2/stat/1/'}\n",
      "96 hypno psychic {'name': 'hp', 'url': 'https://pokeapi.co/api/v2/stat/1/'}\n",
      "97 krabby water {'name': 'hp', 'url': 'https://pokeapi.co/api/v2/stat/1/'}\n",
      "98 kingler water {'name': 'hp', 'url': 'https://pokeapi.co/api/v2/stat/1/'}\n",
      "99 voltorb electric {'name': 'hp', 'url': 'https://pokeapi.co/api/v2/stat/1/'}\n",
      "100 electrode electric {'name': 'hp', 'url': 'https://pokeapi.co/api/v2/stat/1/'}\n",
      "101 exeggcute grass {'name': 'hp', 'url': 'https://pokeapi.co/api/v2/stat/1/'}\n",
      "102 exeggutor grass {'name': 'hp', 'url': 'https://pokeapi.co/api/v2/stat/1/'}\n",
      "103 cubone ground {'name': 'hp', 'url': 'https://pokeapi.co/api/v2/stat/1/'}\n",
      "104 marowak ground {'name': 'hp', 'url': 'https://pokeapi.co/api/v2/stat/1/'}\n",
      "105 hitmonlee fighting {'name': 'hp', 'url': 'https://pokeapi.co/api/v2/stat/1/'}\n",
      "106 hitmonchan fighting {'name': 'hp', 'url': 'https://pokeapi.co/api/v2/stat/1/'}\n",
      "107 lickitung normal {'name': 'hp', 'url': 'https://pokeapi.co/api/v2/stat/1/'}\n",
      "108 koffing poison {'name': 'hp', 'url': 'https://pokeapi.co/api/v2/stat/1/'}\n",
      "109 weezing poison {'name': 'hp', 'url': 'https://pokeapi.co/api/v2/stat/1/'}\n",
      "110 rhyhorn ground {'name': 'hp', 'url': 'https://pokeapi.co/api/v2/stat/1/'}\n",
      "111 rhydon ground {'name': 'hp', 'url': 'https://pokeapi.co/api/v2/stat/1/'}\n",
      "112 chansey normal {'name': 'hp', 'url': 'https://pokeapi.co/api/v2/stat/1/'}\n",
      "113 tangela grass {'name': 'hp', 'url': 'https://pokeapi.co/api/v2/stat/1/'}\n",
      "114 kangaskhan normal {'name': 'hp', 'url': 'https://pokeapi.co/api/v2/stat/1/'}\n",
      "115 horsea water {'name': 'hp', 'url': 'https://pokeapi.co/api/v2/stat/1/'}\n",
      "116 seadra water {'name': 'hp', 'url': 'https://pokeapi.co/api/v2/stat/1/'}\n",
      "117 goldeen water {'name': 'hp', 'url': 'https://pokeapi.co/api/v2/stat/1/'}\n",
      "118 seaking water {'name': 'hp', 'url': 'https://pokeapi.co/api/v2/stat/1/'}\n",
      "119 staryu water {'name': 'hp', 'url': 'https://pokeapi.co/api/v2/stat/1/'}\n",
      "120 starmie water {'name': 'hp', 'url': 'https://pokeapi.co/api/v2/stat/1/'}\n",
      "121 mr-mime psychic {'name': 'hp', 'url': 'https://pokeapi.co/api/v2/stat/1/'}\n",
      "122 scyther bug {'name': 'hp', 'url': 'https://pokeapi.co/api/v2/stat/1/'}\n",
      "123 jynx ice {'name': 'hp', 'url': 'https://pokeapi.co/api/v2/stat/1/'}\n",
      "124 electabuzz electric {'name': 'hp', 'url': 'https://pokeapi.co/api/v2/stat/1/'}\n",
      "125 magmar fire {'name': 'hp', 'url': 'https://pokeapi.co/api/v2/stat/1/'}\n",
      "126 pinsir bug {'name': 'hp', 'url': 'https://pokeapi.co/api/v2/stat/1/'}\n",
      "127 tauros normal {'name': 'hp', 'url': 'https://pokeapi.co/api/v2/stat/1/'}\n",
      "128 magikarp water {'name': 'hp', 'url': 'https://pokeapi.co/api/v2/stat/1/'}\n",
      "129 gyarados water {'name': 'hp', 'url': 'https://pokeapi.co/api/v2/stat/1/'}\n",
      "130 lapras water {'name': 'hp', 'url': 'https://pokeapi.co/api/v2/stat/1/'}\n",
      "131 ditto normal {'name': 'hp', 'url': 'https://pokeapi.co/api/v2/stat/1/'}\n",
      "132 eevee normal {'name': 'hp', 'url': 'https://pokeapi.co/api/v2/stat/1/'}\n",
      "133 vaporeon water {'name': 'hp', 'url': 'https://pokeapi.co/api/v2/stat/1/'}\n",
      "134 jolteon electric {'name': 'hp', 'url': 'https://pokeapi.co/api/v2/stat/1/'}\n",
      "135 flareon fire {'name': 'hp', 'url': 'https://pokeapi.co/api/v2/stat/1/'}\n",
      "136 porygon normal {'name': 'hp', 'url': 'https://pokeapi.co/api/v2/stat/1/'}\n",
      "137 omanyte rock {'name': 'hp', 'url': 'https://pokeapi.co/api/v2/stat/1/'}\n",
      "138 omastar rock {'name': 'hp', 'url': 'https://pokeapi.co/api/v2/stat/1/'}\n",
      "139 kabuto rock {'name': 'hp', 'url': 'https://pokeapi.co/api/v2/stat/1/'}\n",
      "140 kabutops rock {'name': 'hp', 'url': 'https://pokeapi.co/api/v2/stat/1/'}\n",
      "141 aerodactyl rock {'name': 'hp', 'url': 'https://pokeapi.co/api/v2/stat/1/'}\n",
      "142 snorlax normal {'name': 'hp', 'url': 'https://pokeapi.co/api/v2/stat/1/'}\n",
      "143 articuno ice {'name': 'hp', 'url': 'https://pokeapi.co/api/v2/stat/1/'}\n",
      "144 zapdos electric {'name': 'hp', 'url': 'https://pokeapi.co/api/v2/stat/1/'}\n",
      "145 moltres fire {'name': 'hp', 'url': 'https://pokeapi.co/api/v2/stat/1/'}\n",
      "146 dratini dragon {'name': 'hp', 'url': 'https://pokeapi.co/api/v2/stat/1/'}\n",
      "147 dragonair dragon {'name': 'hp', 'url': 'https://pokeapi.co/api/v2/stat/1/'}\n",
      "148 dragonite dragon {'name': 'hp', 'url': 'https://pokeapi.co/api/v2/stat/1/'}\n",
      "149 mewtwo psychic {'name': 'hp', 'url': 'https://pokeapi.co/api/v2/stat/1/'}\n",
      "150 mew psychic {'name': 'hp', 'url': 'https://pokeapi.co/api/v2/stat/1/'}\n"
     ]
    }
   ],
   "source": [
    "data = []\n",
    "for i, poke in enumerate(pokemones):\n",
    "    nombre = poke['name']\n",
    "    tipo_principal = poke['types'][0]['type']['name']\n",
    "    if len(poke['types']) > 1:\n",
    "        tipo_secundario = poke['types'][1]['type']['name']\n",
    "    else:\n",
    "        tipo_secundario = None\n",
    "    \n",
    "    hp = poke['stats'][0]['stat']\n",
    "    print(i, nombre, tipo_principal, hp)\n",
    "#df = pd.json_normalize(pokemones)\n",
    "#print(df[['hp', 'attack', 'defense', 'special-atack', 'special-defense', 'speed']])\n"
   ]
  },
  {
   "cell_type": "code",
   "execution_count": null,
   "id": "eecd1cbc",
   "metadata": {},
   "outputs": [],
   "source": []
  },
  {
   "cell_type": "markdown",
   "id": "afeb0222",
   "metadata": {},
   "source": [
    "## 4. Preguntas"
   ]
  },
  {
   "cell_type": "markdown",
   "id": "5e1dd5c3",
   "metadata": {},
   "source": [
    "#### 4.1 ¿Cuál son los 3 tipos (*water, fire, ground,* etc.) más comunes en los pokémones de la primera generación?"
   ]
  },
  {
   "cell_type": "code",
   "execution_count": null,
   "id": "5c12a705",
   "metadata": {},
   "outputs": [],
   "source": []
  },
  {
   "cell_type": "code",
   "execution_count": null,
   "id": "d8ef9d4b",
   "metadata": {},
   "outputs": [],
   "source": []
  },
  {
   "cell_type": "markdown",
   "id": "16247f38",
   "metadata": {},
   "source": [
    "El tipo más común es:"
   ]
  },
  {
   "cell_type": "markdown",
   "id": "584f524f",
   "metadata": {},
   "source": [
    "#### 4.2 ¿Cuál es el pokémon más rápido? ¿Y el más lento?"
   ]
  },
  {
   "cell_type": "code",
   "execution_count": null,
   "id": "1cb9fb99",
   "metadata": {},
   "outputs": [],
   "source": []
  },
  {
   "cell_type": "markdown",
   "id": "9940aedb",
   "metadata": {},
   "source": [
    "El pokémon más rápido es:"
   ]
  },
  {
   "cell_type": "markdown",
   "id": "3212213a",
   "metadata": {},
   "source": [
    "#### 4.3 Genere una nueva columna en el DataFrame llamada `total-stats` que consista en la suma de todos los stats de un pokémon (`hp, attack, defense, special-attack, special-defense, speed`) ¿Cuáles son los valores mínimo y máximo de esta nueva variable?"
   ]
  },
  {
   "cell_type": "code",
   "execution_count": null,
   "id": "b54b12d1",
   "metadata": {},
   "outputs": [],
   "source": []
  },
  {
   "cell_type": "markdown",
   "id": "b7f34ada",
   "metadata": {},
   "source": [
    "El valor máximo lo tiene:\n",
    "\n",
    "y el mínimo lo tiene:"
   ]
  },
  {
   "cell_type": "markdown",
   "id": "e098861c",
   "metadata": {},
   "source": [
    "#### 4.4 Grafique un histograma de `total-stats` y comente brevemente lo que observa de la distribución de este atributo."
   ]
  },
  {
   "cell_type": "code",
   "execution_count": 33,
   "id": "74fab9f7",
   "metadata": {},
   "outputs": [],
   "source": [
    "import matplotlib.pyplot as plt\n"
   ]
  },
  {
   "cell_type": "markdown",
   "id": "e8ab882d",
   "metadata": {},
   "source": [
    "Descripción:"
   ]
  }
 ],
 "metadata": {
  "kernelspec": {
   "display_name": "IntroCsDatos",
   "language": "python",
   "name": "python3"
  },
  "language_info": {
   "codemirror_mode": {
    "name": "ipython",
    "version": 3
   },
   "file_extension": ".py",
   "mimetype": "text/x-python",
   "name": "python",
   "nbconvert_exporter": "python",
   "pygments_lexer": "ipython3",
   "version": "3.13.5"
  }
 },
 "nbformat": 4,
 "nbformat_minor": 5
}
